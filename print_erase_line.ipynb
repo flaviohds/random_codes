{
  "nbformat": 4,
  "nbformat_minor": 0,
  "metadata": {
    "colab": {
      "provenance": [],
      "authorship_tag": "ABX9TyOQYbCXmxWVaSiHsO9u4N/h",
      "include_colab_link": true
    },
    "kernelspec": {
      "name": "python3",
      "display_name": "Python 3"
    },
    "language_info": {
      "name": "python"
    }
  },
  "cells": [
    {
      "cell_type": "markdown",
      "metadata": {
        "id": "view-in-github",
        "colab_type": "text"
      },
      "source": [
        "<a href=\"https://colab.research.google.com/github/flaviohds/random_codes/blob/main/print_erase_line.ipynb\" target=\"_parent\"><img src=\"https://colab.research.google.com/assets/colab-badge.svg\" alt=\"Open In Colab\"/></a>"
      ]
    },
    {
      "cell_type": "markdown",
      "source": [
        "Breve exemplo de feedback de saída para células de longo tempo de processamento."
      ],
      "metadata": {
        "id": "mTQu37KcQ2T-"
      }
    },
    {
      "cell_type": "code",
      "source": [
        "import sys\n",
        "import time\n",
        "for i in range(10):\n",
        "    sys.stdout.write(\"\\r\"+str(i))\n",
        "    sys.stdout.flush()\n",
        "    time.sleep(1)\n",
        "sys.stdout.write(\"\\r\")"
      ],
      "metadata": {
        "colab": {
          "base_uri": "https://localhost:8080/"
        },
        "id": "LrvUYl3tWaM0",
        "outputId": "15a8b9cb-9933-4813-beb1-0a6e757a9c8a"
      },
      "execution_count": null,
      "outputs": [
        {
          "output_type": "stream",
          "name": "stdout",
          "text": []
        }
      ]
    },
    {
      "cell_type": "code",
      "source": [
        "import sys\n",
        "import time\n",
        "\n",
        "a = 0  \n",
        "for x in range (0,3):  \n",
        "    a = a + 1  \n",
        "    b = (\"Loading\" + \".\" * a)\n",
        "    # \\r prints a carriage return first, so `b` is printed on top of the previous line.\n",
        "    sys.stdout.write('\\r'+b)\n",
        "    time.sleep(0.5)"
      ],
      "metadata": {
        "colab": {
          "base_uri": "https://localhost:8080/"
        },
        "id": "oSsmLnx7WwxC",
        "outputId": "63f8e475-6990-4f73-87b1-3df6a867c7b8"
      },
      "execution_count": null,
      "outputs": [
        {
          "output_type": "stream",
          "name": "stdout",
          "text": [
            "Loading..."
          ]
        }
      ]
    }
  ]
}